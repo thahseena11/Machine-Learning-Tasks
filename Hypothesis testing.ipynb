{
 "cells": [
  {
   "cell_type": "markdown",
   "id": "e34d2874-eaca-4c5a-a92a-8e327bcc0c00",
   "metadata": {},
   "source": [
    "## Hypothesis testing"
   ]
  },
  {
   "cell_type": "markdown",
   "id": "758a0980-b59f-47f9-be5c-ebe5b2a7e90c",
   "metadata": {},
   "source": [
    "## Q1.Suppose a child psychologist claims that the average time working mothers spend talking to their children is at least 11 minutes per day. You conduct a random sample of 1000 working mothers and find they spend an average of 11.5 minutes per day talking with their children. Assume prior research suggests the population standard deviation is 2.3 minutes.Conduct a test with a level of significance of alpha = 0.05."
   ]
  },
  {
   "cell_type": "code",
   "execution_count": 1,
   "id": "df0b6025-2560-47eb-bf59-2518ebe67e0c",
   "metadata": {},
   "outputs": [
    {
     "name": "stdout",
     "output_type": "stream",
     "text": [
      "Requirement already satisfied: statsmodels in c:\\users\\faheem\\appdata\\local\\programs\\python\\python312\\lib\\site-packages (0.14.2)\n",
      "Requirement already satisfied: numpy>=1.22.3 in c:\\users\\faheem\\appdata\\local\\programs\\python\\python312\\lib\\site-packages (from statsmodels) (1.26.2)\n",
      "Requirement already satisfied: scipy!=1.9.2,>=1.8 in c:\\users\\faheem\\appdata\\local\\programs\\python\\python312\\lib\\site-packages (from statsmodels) (1.13.1)\n",
      "Requirement already satisfied: pandas!=2.1.0,>=1.4 in c:\\users\\faheem\\appdata\\local\\programs\\python\\python312\\lib\\site-packages (from statsmodels) (2.1.4)\n",
      "Requirement already satisfied: patsy>=0.5.6 in c:\\users\\faheem\\appdata\\local\\programs\\python\\python312\\lib\\site-packages (from statsmodels) (0.5.6)\n",
      "Requirement already satisfied: packaging>=21.3 in c:\\users\\faheem\\appdata\\local\\programs\\python\\python312\\lib\\site-packages (from statsmodels) (23.2)\n",
      "Requirement already satisfied: python-dateutil>=2.8.2 in c:\\users\\faheem\\appdata\\local\\programs\\python\\python312\\lib\\site-packages (from pandas!=2.1.0,>=1.4->statsmodels) (2.8.2)\n",
      "Requirement already satisfied: pytz>=2020.1 in c:\\users\\faheem\\appdata\\local\\programs\\python\\python312\\lib\\site-packages (from pandas!=2.1.0,>=1.4->statsmodels) (2023.3.post1)\n",
      "Requirement already satisfied: tzdata>=2022.1 in c:\\users\\faheem\\appdata\\local\\programs\\python\\python312\\lib\\site-packages (from pandas!=2.1.0,>=1.4->statsmodels) (2023.3)\n",
      "Requirement already satisfied: six in c:\\users\\faheem\\appdata\\local\\programs\\python\\python312\\lib\\site-packages (from patsy>=0.5.6->statsmodels) (1.16.0)\n",
      "Note: you may need to restart the kernel to use updated packages.\n"
     ]
    },
    {
     "name": "stderr",
     "output_type": "stream",
     "text": [
      "\n",
      "[notice] A new release of pip is available: 23.2.1 -> 24.0\n",
      "[notice] To update, run: python.exe -m pip install --upgrade pip\n"
     ]
    }
   ],
   "source": [
    "pip install statsmodels"
   ]
  },
  {
   "cell_type": "code",
   "execution_count": 2,
   "id": "dbb6bdbc-eb62-4f22-bbd2-4c11a3131aa3",
   "metadata": {},
   "outputs": [
    {
     "name": "stdout",
     "output_type": "stream",
     "text": [
      "Requirement already satisfied: scipy in c:\\users\\faheem\\appdata\\local\\programs\\python\\python312\\lib\\site-packages (1.13.1)\n",
      "Requirement already satisfied: numpy<2.3,>=1.22.4 in c:\\users\\faheem\\appdata\\local\\programs\\python\\python312\\lib\\site-packages (from scipy) (1.26.2)\n",
      "Note: you may need to restart the kernel to use updated packages.\n"
     ]
    },
    {
     "name": "stderr",
     "output_type": "stream",
     "text": [
      "\n",
      "[notice] A new release of pip is available: 23.2.1 -> 24.0\n",
      "[notice] To update, run: python.exe -m pip install --upgrade pip\n"
     ]
    }
   ],
   "source": [
    "pip install scipy"
   ]
  },
  {
   "cell_type": "code",
   "execution_count": 3,
   "id": "5a6a5be4-df45-4cdf-89e1-077ab95a1117",
   "metadata": {},
   "outputs": [],
   "source": [
    "import numpy as np"
   ]
  },
  {
   "cell_type": "markdown",
   "id": "895f8e77-d571-4084-98a5-5944bb372ef0",
   "metadata": {},
   "source": [
    "## NULL HYPOTHESIS"
   ]
  },
  {
   "cell_type": "markdown",
   "id": "dceec778-69da-46ce-b4a2-7071b3d06930",
   "metadata": {},
   "source": [
    "Ho = μ ≤ 11 minutes"
   ]
  },
  {
   "cell_type": "markdown",
   "id": "a3f715fb-4830-47b8-b188-ffcf0bf488e9",
   "metadata": {},
   "source": [
    "## ALTERNATIVE HYPOTHESIS"
   ]
  },
  {
   "cell_type": "markdown",
   "id": "88a60505-edb2-4063-b0a3-f7ff54d619db",
   "metadata": {},
   "source": [
    "Ha = μ > 11 minutes\n",
    "\r\n",
    "x̄ = 11.5 minute\n",
    "\n",
    "s\r\n",
    "n = 10\n",
    "\n",
    "00\r\n",
    "σ = 2.3 minu\n",
    "\n",
    "tes\r\n",
    "α = 0.05"
   ]
  },
  {
   "cell_type": "markdown",
   "id": "7ee218d8-7551-4be8-a774-3b6d63289512",
   "metadata": {},
   "source": [
    "## Statistical Test"
   ]
  },
  {
   "cell_type": "markdown",
   "id": "17828a60-4a04-42a3-a3c0-c136c996e689",
   "metadata": {},
   "source": [
    "## 1.Test Selection:\r\n",
    "\r\n",
    "Use a Z-test because the sample size (1000) is greater than 3\n",
    "le size): 1000"
   ]
  },
  {
   "cell_type": "markdown",
   "id": "c84ec271-63ce-474a-baaa-107d1b90ec9d",
   "metadata": {},
   "source": [
    "## 2.Rejection Criteria:\n",
    "\n",
    "Reject ( H_0 ) if ( z_{statistics} > ) critical value.\n"
   ]
  },
  {
   "cell_type": "markdown",
   "id": "bcd2cca7-3d35-409d-b5c6-b7e31cf23626",
   "metadata": {},
   "source": [
    "## 3.Z-Test Formula:\n",
    "\n",
    "( Z = \\frac{\\bar{x} - \\mu}{\\sigma / \\sqrt{n}} )\n"
   ]
  },
  {
   "cell_type": "markdown",
   "id": "6fbd11ce-21b8-41c0-bab6-2f1bf547cf2b",
   "metadata": {},
   "source": [
    "## 4.Parameters:\n",
    "\n",
    "( \\bar{x} ) (sample mean): 11.5 minutes\n",
    "\n",
    "( \\mu ) (population mean): 11 minutes\n",
    "\n",
    "( \\sigma ) (population standard deviation): 2.3 minutes\n",
    "\n",
    "( n ) (sample size): 1000"
   ]
  },
  {
   "cell_type": "code",
   "execution_count": 5,
   "id": "2dcf12a5-5991-4329-8e55-de4765642fb5",
   "metadata": {},
   "outputs": [],
   "source": [
    "import math"
   ]
  },
  {
   "cell_type": "code",
   "execution_count": 6,
   "id": "53b48c06-b4c6-4f67-bf8a-3dbca4e08162",
   "metadata": {},
   "outputs": [
    {
     "data": {
      "text/plain": [
       "6.874516652539955"
      ]
     },
     "execution_count": 6,
     "metadata": {},
     "output_type": "execute_result"
    }
   ],
   "source": [
    "Z = (11.5-11)/(2.3/math.sqrt(1000))\n",
    "Z"
   ]
  },
  {
   "cell_type": "markdown",
   "id": "01adb3aa-2369-43a8-b663-c1cdc0d4f0d3",
   "metadata": {},
   "source": [
    "## Critical Value/P-Value:\n",
    "\n",
    "Since our calculated z-score (6.87) is much greater than the critical value (1.645), we reject the null hypothesis. We have sufficient evidence to conclude that the average time working mothers spend talking to their children is more than 11 minutes per day ."
   ]
  },
  {
   "cell_type": "markdown",
   "id": "dc6e32f4-b99f-41d3-a0fc-2a46f4a10168",
   "metadata": {},
   "source": [
    "## Q2. A coffee shop claims that their average wait time for customers is less than 5 minutes. To test this claim, a sample of 40 customers is taken, and their wait times are recorded. The sample mean wait time is found to be 4.6 minutes with a standard deviation of 0.8 minutes. Perform a hypothesis test at a significance level of 0.05 and determine whether there is enough evidence to support the coffee shop's claim."
   ]
  },
  {
   "cell_type": "markdown",
   "id": "ad49112c-baeb-4196-9312-af9da063784c",
   "metadata": {},
   "source": [
    "Ho = μ ≥ 5 minute (Null Hypothesis)sv in-1) = 39 Ha = μ < 5 minutes (Alternative Hypothesis)\n",
    "\r\n",
    "\r\n",
    "x̄ = 4.6 minutes\r\n",
    "\r\n",
    "n = 40\r\n",
    "\r\n",
    "σ = 0.8 minutes\r\n",
    "\r\n",
    "μ = 5 minutes\r\n",
    "\r\n",
    "α = 0.05(5%)\r\n",
    "\r\n",
    "n-1 = 39"
   ]
  },
  {
   "cell_type": "markdown",
   "id": "59635642-9628-4b70-9080-fe2fde9893f7",
   "metadata": {},
   "source": [
    "## Statistical Test:\n",
    "\n",
    "If the sample size is small (typically <30) and the population standard deviation is unknown, the t-test is appropriate. However, for larger sample sizes (usually greater than 30), the t-test can also be used even if the population standard deviation is unknown due to the Central Limit Theorem, which states that the distribution of sample means approaches a normal distribution as the sample size increases."
   ]
  },
  {
   "cell_type": "markdown",
   "id": "980fc9ef-b68c-478b-bd80-808dc00fd010",
   "metadata": {},
   "source": [
    "t_test_statistic=(x̄ - μ) / (σ / √n)"
   ]
  },
  {
   "cell_type": "markdown",
   "id": "7d259648-4c8a-49c1-8f60-9188ef877775",
   "metadata": {},
   "source": [
    "x̄ = sample mean (4.6 minutes)\r\n",
    "\r\n",
    "μ = population mean (5 minutes)\r\n",
    "\r\n",
    "σ = Sample standard deviation (0.8 minutes)\r\n",
    "\r\n",
    "n = sample size (40).\r\n",
    "\r\n",
    "α = Significance level (0.05(5%)).\r\n",
    "\r\n",
    "n-1 = Degree of freedom(39)."
   ]
  },
  {
   "cell_type": "code",
   "execution_count": 7,
   "id": "a321f553-6bcf-402d-a921-66f99f133f90",
   "metadata": {},
   "outputs": [
    {
     "name": "stdout",
     "output_type": "stream",
     "text": [
      "t_statistic: -3.162277660168382\n"
     ]
    }
   ],
   "source": [
    "t_test_statistic=(4.6 - 5) / (0.8 / np.sqrt(40))\n",
    "print('t_statistic:',t_test_statistic)"
   ]
  },
  {
   "cell_type": "code",
   "execution_count": 8,
   "id": "562aab44-0935-43e3-a007-57643913cdaa",
   "metadata": {},
   "outputs": [
    {
     "name": "stdout",
     "output_type": "stream",
     "text": [
      "Critical value: -1.684875121711225\n"
     ]
    }
   ],
   "source": [
    "#calculating the critical value with df 39 and alpha 0.05\n",
    "from scipy.stats import t\n",
    "critical_value = t.ppf(0.05, 39)\n",
    "print(\"Critical value:\", critical_value)"
   ]
  },
  {
   "cell_type": "markdown",
   "id": "e7e771cb-3536-4768-b854-77e53709ddb9",
   "metadata": {},
   "source": [
    "## Conclusion:\r\n",
    "Since our calculated t_test(-3.16) is less than the critical t-value (-1.685), we fail to accept the null hypothesis. There is enough evidence to support the claim that the average wait time for customers is less than 5 minutes at a significance level of 0.05."
   ]
  },
  {
   "cell_type": "code",
   "execution_count": null,
   "id": "0ae0e926-5210-4301-981a-1079cf6411e3",
   "metadata": {},
   "outputs": [],
   "source": []
  }
 ],
 "metadata": {
  "kernelspec": {
   "display_name": "Python 3 (ipykernel)",
   "language": "python",
   "name": "python3"
  },
  "language_info": {
   "codemirror_mode": {
    "name": "ipython",
    "version": 3
   },
   "file_extension": ".py",
   "mimetype": "text/x-python",
   "name": "python",
   "nbconvert_exporter": "python",
   "pygments_lexer": "ipython3",
   "version": "3.12.1"
  }
 },
 "nbformat": 4,
 "nbformat_minor": 5
}
